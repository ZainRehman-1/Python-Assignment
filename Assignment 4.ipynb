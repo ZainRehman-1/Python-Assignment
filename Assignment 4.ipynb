{
 "cells": [
  {
   "cell_type": "code",
   "execution_count": 2,
   "metadata": {},
   "outputs": [
    {
     "name": "stdout",
     "output_type": "stream",
     "text": [
      "Zain\n",
      "Rehman\n",
      "22\n",
      "Karachi\n",
      "{'first_name': 'Zain', 'last_name': 'Rehman', 'age': 22, 'city': 'Karachi', 'qualification': 'Graduation'}\n",
      "{'first_name': 'Zain', 'last_name': 'Rehman', 'age': 22, 'city': 'Karachi', 'qualification': 'Masters'}\n",
      "{'first_name': 'Zain', 'last_name': 'Rehman', 'age': 22, 'city': 'Karachi'}\n"
     ]
    }
   ],
   "source": [
    "info = {\n",
    "        \"first_name\" : \"Zain\",\n",
    "        \"last_name\" : \"Rehman\",\n",
    "        \"age\" : 22,\n",
    "        \"city\" : \"Karachi\"\n",
    "}\n",
    "\n",
    "print(info[\"first_name\"])\n",
    "print(info[\"last_name\"])\n",
    "print(info[\"age\"])\n",
    "print(info[\"city\"])\n",
    "\n",
    "info[\"qualification\"] = \"Graduation\"\n",
    "print(info)\n",
    "\n",
    "info.update(qualification = \"Masters\")\n",
    "print(info)\n",
    "del info[\"qualification\"]\n",
    "print(info)"
   ]
  },
  {
   "cell_type": "code",
   "execution_count": 3,
   "metadata": {},
   "outputs": [
    {
     "name": "stdout",
     "output_type": "stream",
     "text": [
      "{'country': 'Pakistan', 'population': '15,741,406', 'fact': 'It is the Sixth largest city in the world by city population'}\n",
      "{'country': 'Canada', 'population': '2,555,884', 'fact': 'The Port of Vancouver is the largest port in Canada and the third la-rgest in North America in terms of total tonnage moved in and out of the port'}\n",
      "{'country': 'Australia', 'population': '4,800,000', 'fact': 'Melbourne has the highest number of restaurants and cafes per number of people than any other city in the world!'}\n"
     ]
    }
   ],
   "source": [
    "cities = {\n",
    "    \"karachi\" : {\n",
    "        \"country\" : \"Pakistan\",\n",
    "        \"population\" : \"15,741,406\",\n",
    "        \"fact\" : \"It is the Sixth largest city in the world by city population\"\n",
    "    },\n",
    "    \"vancouver\" :{\n",
    "        \"country\" : \"Canada\",\n",
    "        \"population\" : \"2,555,884\",\n",
    "        \"fact\" : \"The Port of Vancouver is the largest port in Canada and the third la-rgest in North America in terms of total tonnage moved in and out of the port\"\n",
    "    },\n",
    "    \"melbourne\" : {\n",
    "        \"country\" : \"Australia\",\n",
    "        \"population\" : \"4,800,000\",\n",
    "        \"fact\" : \"Melbourne has the highest number of restaurants and cafes per number of people than any other city in the world!\"\n",
    "    }\n",
    "    \n",
    "}\n",
    "print(cities[\"karachi\"])\n",
    "print(cities[\"vancouver\"])\n",
    "print(cities[\"melbourne\"])"
   ]
  },
  {
   "cell_type": "code",
   "execution_count": null,
   "metadata": {},
   "outputs": [
    {
     "name": "stdout",
     "output_type": "stream",
     "text": [
      "What is Your Age? 2\n",
      "Your ticket is free\n",
      "What is Your Age? 10\n",
      "Your ticket is $10.\n",
      "What is Your Age? 15\n",
      "Your ticket is $15.\n"
     ]
    }
   ],
   "source": [
    "while True :\n",
    "    age = int(input(\"What is Your Age? \"))\n",
    "    \n",
    "    if age >= 0 and age < 3:\n",
    "        print(\"Your ticket is free\")\n",
    "    elif age >=3 and age <=12:\n",
    "        print(\"Your ticket is $10.\")\n",
    "    else:\n",
    "        print(\"Your ticket is $15.\")"
   ]
  },
  {
   "cell_type": "code",
   "execution_count": 1,
   "metadata": {},
   "outputs": [
    {
     "name": "stdout",
     "output_type": "stream",
     "text": [
      "One of my favorite books is Harry Potter\n"
     ]
    }
   ],
   "source": [
    "def favorite_book(title) :\n",
    "    print(\"One of my favorite books is \" + title)\n",
    "    \n",
    "favorite_book(\"Harry Potter\")"
   ]
  },
  {
   "cell_type": "code",
   "execution_count": 17,
   "metadata": {},
   "outputs": [
    {
     "name": "stdout",
     "output_type": "stream",
     "text": [
      "You have three chances to guess the right number\n",
      "Guess the correct number from 1 to 30: 1\n",
      "Your number is smaller than the hidden number\n",
      "Guess the correct number from 1 to 30: 20\n",
      "Your number is greater than the hidden number\n",
      "Guess the correct number from 1 to 30: 16\n",
      "Your number is greater than the hidden number\n",
      "You availed your all three chances, the hidden number is 11\n"
     ]
    }
   ],
   "source": [
    "print(\"You have three chances to guess the right number\")\n",
    "import random\n",
    "number = random.randint(1, 30)\n",
    "guesses = 0\n",
    "while guesses < 3:\n",
    "    guess = int(input(\"Guess the correct number from 1 to 30: \"))\n",
    "    guesses +=1\n",
    "    \n",
    "    if guess < number:\n",
    "        print (\"Your number is smaller than the hidden number\")\n",
    "    elif guess > number:\n",
    "        print (\"Your number is greater than the hidden number\")\n",
    "    elif guess == number:\n",
    "        print (\"You guessed the right number!\")\n",
    "        break\n",
    "    if guesses == 3:    \n",
    "        number = str(number)\n",
    "        print(\"You availed your all three chances, the hidden number is\", number )"
   ]
  },
  {
   "cell_type": "code",
   "execution_count": null,
   "metadata": {},
   "outputs": [],
   "source": []
  }
 ],
 "metadata": {
  "kernelspec": {
   "display_name": "Python 3",
   "language": "python",
   "name": "python3"
  },
  "language_info": {
   "codemirror_mode": {
    "name": "ipython",
    "version": 3
   },
   "file_extension": ".py",
   "mimetype": "text/x-python",
   "name": "python",
   "nbconvert_exporter": "python",
   "pygments_lexer": "ipython3",
   "version": "3.7.0"
  }
 },
 "nbformat": 4,
 "nbformat_minor": 2
}
