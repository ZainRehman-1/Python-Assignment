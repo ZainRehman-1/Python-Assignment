{
 "cells": [
  {
   "cell_type": "code",
   "execution_count": 1,
   "metadata": {},
   "outputs": [
    {
     "name": "stdout",
     "output_type": "stream",
     "text": [
      "Enter first number 6\n",
      "Enter second number 2\n",
      "Enter operator ^\n",
      "36\n"
     ]
    }
   ],
   "source": [
    "a = int(input(\"Enter first number \"))\n",
    "b = int(input(\"Enter second number \"))\n",
    "c = input(\"Enter operator \")\n",
    "\n",
    "if c == \"+\" :\n",
    "    print(a+b)\n",
    "elif c == \"-\" :\n",
    "    print(a-b)\n",
    "elif c ==\"*\" :\n",
    "    print(a*b)\n",
    "elif c == \"/\" :\n",
    "    print(a/b)\n",
    "elif c == \"^\" :\n",
    "    print(a**b)\n",
    "else :\n",
    "    print(\"Enter correct operator\")"
   ]
  },
  {
   "cell_type": "code",
   "execution_count": 24,
   "metadata": {},
   "outputs": [
    {
     "name": "stdout",
     "output_type": "stream",
     "text": [
      "Numeric value exist\n"
     ]
    }
   ],
   "source": [
    "a = [1,\"a\",2,\"b\",3,\"c\",4,\"d\",5,\"e\"]\n",
    "for i in a :\n",
    "    if i == (0 or 1 or 2 or 3 or 4 or 5 or 6 or 7 or 8 or 9)  :\n",
    "        print(\"Numeric value exist\")"
   ]
  },
  {
   "cell_type": "code",
   "execution_count": 33,
   "metadata": {},
   "outputs": [
    {
     "name": "stdout",
     "output_type": "stream",
     "text": [
      "{'a': '1', 'b': '2', 'c': '3', 'd': '4', 'e': '5'}\n"
     ]
    }
   ],
   "source": [
    "dict = {\"a\":\"1\",\"b\":\"2\",\"c\":\"3\"}\n",
    "dict[\"d\"]=\"4\"\n",
    "dict[\"e\"]=\"5\"\n",
    "print(dict)"
   ]
  },
  {
   "cell_type": "code",
   "execution_count": 32,
   "metadata": {},
   "outputs": [
    {
     "name": "stdout",
     "output_type": "stream",
     "text": [
      "15\n"
     ]
    }
   ],
   "source": [
    "dict = {\"a\":1,\"b\":2,\"c\":3,\"d\":4,\"e\":5}\n",
    "print(sum(dict.values()))"
   ]
  },
  {
   "cell_type": "code",
   "execution_count": 1,
   "metadata": {},
   "outputs": [
    {
     "name": "stdout",
     "output_type": "stream",
     "text": [
      "[4, 1, 6, 7, 2]\n"
     ]
    }
   ],
   "source": [
    "a = [1,4,5,6,18,4,2,1,7,6,7,19,20,2]\n",
    "dupItems = []\n",
    "uniqItems = {}\n",
    "\n",
    "for x in a:\n",
    "        if x not in uniqItems:\n",
    "            uniqItems[x] = 1\n",
    "        else:\n",
    "            if uniqItems[x] == 1:\n",
    "                dupItems.append(x)\n",
    "            uniqItems[x] += 1\n",
    "print(dupItems)            "
   ]
  },
  {
   "cell_type": "code",
   "execution_count": 40,
   "metadata": {},
   "outputs": [
    {
     "name": "stdout",
     "output_type": "stream",
     "text": [
      "Enter key to check f\n",
      "Key doesn't exist\n"
     ]
    }
   ],
   "source": [
    "dict = {\"a\":1 , \"b\":2 , \"c\":3 , \"d\":4 , \"e\":5}\n",
    "key = input(\"Enter key to check \")\n",
    "for i in dict :\n",
    "    if key in dict :\n",
    "        print(\"Key exists\")\n",
    "    else :\n",
    "        print(\"Key doesn't exist\")\n",
    "    break    "
   ]
  },
  {
   "cell_type": "code",
   "execution_count": null,
   "metadata": {},
   "outputs": [],
   "source": []
  }
 ],
 "metadata": {
  "kernelspec": {
   "display_name": "Python 3",
   "language": "python",
   "name": "python3"
  },
  "language_info": {
   "codemirror_mode": {
    "name": "ipython",
    "version": 3
   },
   "file_extension": ".py",
   "mimetype": "text/x-python",
   "name": "python",
   "nbconvert_exporter": "python",
   "pygments_lexer": "ipython3",
   "version": "3.7.0"
  }
 },
 "nbformat": 4,
 "nbformat_minor": 2
}
