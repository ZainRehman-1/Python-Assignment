{
 "cells": [
  {
   "cell_type": "code",
   "execution_count": 129,
   "metadata": {},
   "outputs": [
    {
     "name": "stdout",
     "output_type": "stream",
     "text": [
      "Enter your Maths marks 78\n",
      "Enter your Chemistry marks 88\n",
      "Enter your Physics marks 75\n",
      "Enter your English maks 95\n",
      "Enter your Urdu marks 93\n",
      "\n",
      "Total marks:500\n",
      "\n",
      "Marks obtained:429\n",
      "\n",
      "Percentage:85.8%\n",
      "\n",
      "Grade:A-1\n"
     ]
    }
   ],
   "source": [
    "math = int(input(\"Enter your Maths marks \"))\n",
    "chemistry = int(input(\"Enter your Chemistry marks \"))\n",
    "physics = int(input(\"Enter your Physics marks \"))\n",
    "english = int(input(\"Enter your English maks \"))\n",
    "urdu = int(input(\"Enter your Urdu marks \"))\n",
    "obtainedMarks = math+chemistry+physics+english+urdu\n",
    "per=obtainedMarks*100/500\n",
    "print(\"\\nTotal marks:\"+\"500\\n\")\n",
    "print(\"Marks obtained:\"+str(obtainedMarks)+\"\\n\")\n",
    "print(\"Percentage:\" + str(per) +\"%\\n\")\n",
    "\n",
    "if per>= 33 and per<40 :\n",
    "\n",
    "    print (\"Grade:E\")\n",
    "\n",
    "elif per>= 40 and per<50 :\n",
    "\n",
    "    print (\"Grade:D\")\n",
    "    \n",
    "elif per>= 50 and per<60 :\n",
    "\n",
    "    print (\"Grade:C\")\n",
    "\n",
    "elif per>= 60 and per<70 :\n",
    "\n",
    "    print (\"Grade:B\")\n",
    "\n",
    "elif per>= 70 and per< 80 :\n",
    "\n",
    "    print(\"Grade:A\")\n",
    "\n",
    "elif per>=80 and per<=100 :\n",
    "\n",
    "    print(\"Grade:A-1\")\n",
    "\n",
    "elif per>100 :\n",
    "\n",
    "    print(\"Grade:Not possible\")\n",
    "else :    \n",
    "\n",
    "    print(\"Grade:Fail\")"
   ]
  },
  {
   "cell_type": "code",
   "execution_count": 40,
   "metadata": {},
   "outputs": [
    {
     "name": "stdout",
     "output_type": "stream",
     "text": [
      "Enter a number 56\n",
      "It is an Even number\n"
     ]
    }
   ],
   "source": [
    "num =int(input(\"Enter a number \"))\n",
    "if num%2 == 0 :\n",
    "    print(\"It is an Even number\")\n",
    "elif num%1 == 0 :\n",
    "\n",
    "    print(\"It is an Odd number\")\n",
    "\n",
    "else :\n",
    "    print(\"Error\")\n"
   ]
  },
  {
   "cell_type": "code",
   "execution_count": 54,
   "metadata": {},
   "outputs": [
    {
     "name": "stdout",
     "output_type": "stream",
     "text": [
      "10\n"
     ]
    }
   ],
   "source": [
    "a = [1,2,3,4,5,6,7,8,9,10]\n",
    "print(len(a))"
   ]
  },
  {
   "cell_type": "code",
   "execution_count": 119,
   "metadata": {},
   "outputs": [
    {
     "name": "stdout",
     "output_type": "stream",
     "text": [
      "Sum of all the numeric items in a list: 15\n"
     ]
    }
   ],
   "source": [
    "a = [1,2,3,4,5]\n",
    "\n",
    "total = sum(a)\n",
    "\n",
    "print(\"Sum of all the numeric items in a list: \"+str(total))"
   ]
  },
  {
   "cell_type": "code",
   "execution_count": 120,
   "metadata": {},
   "outputs": [
    {
     "name": "stdout",
     "output_type": "stream",
     "text": [
      "Largest number from the list is: 99\n"
     ]
    }
   ],
   "source": [
    "a = [10,20,4,45,99,7]\n",
    "print(\"Largest number from the list is: \"+str(max(a)))"
   ]
  },
  {
   "cell_type": "code",
   "execution_count": 128,
   "metadata": {},
   "outputs": [
    {
     "name": "stdout",
     "output_type": "stream",
     "text": [
      "1\n",
      "1\n",
      "2\n",
      "3\n"
     ]
    }
   ],
   "source": [
    "list1 = [1, 1, 2, 3, 5, 8, 13, 21, 34, 55, 89]\n",
    "for num in list1 :\n",
    "    if num < 5 :\n",
    "        print(num)\n",
    "    "
   ]
  },
  {
   "cell_type": "code",
   "execution_count": null,
   "metadata": {},
   "outputs": [],
   "source": []
  }
 ],
 "metadata": {
  "kernelspec": {
   "display_name": "Python 3",
   "language": "python",
   "name": "python3"
  },
  "language_info": {
   "codemirror_mode": {
    "name": "ipython",
    "version": 3
   },
   "file_extension": ".py",
   "mimetype": "text/x-python",
   "name": "python",
   "nbconvert_exporter": "python",
   "pygments_lexer": "ipython3",
   "version": "3.7.0"
  }
 },
 "nbformat": 4,
 "nbformat_minor": 2
}
