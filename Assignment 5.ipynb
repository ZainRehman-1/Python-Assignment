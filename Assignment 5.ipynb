{
 "cells": [
  {
   "cell_type": "code",
   "execution_count": 8,
   "metadata": {},
   "outputs": [
    {
     "name": "stdout",
     "output_type": "stream",
     "text": [
      "24\n"
     ]
    }
   ],
   "source": [
    "def factorial(num) :\n",
    "    if num == 0 :\n",
    "        return 1\n",
    "    else :\n",
    "        return num * factorial(num-1)\n",
    "    \n",
    "print(factorial(4))   "
   ]
  },
  {
   "cell_type": "code",
   "execution_count": 94,
   "metadata": {},
   "outputs": [
    {
     "name": "stdout",
     "output_type": "stream",
     "text": [
      "Enter a string My name is Zain\n",
      "No. of Upper case characters :  2\n",
      "No. of Lower case Characters :  10\n"
     ]
    }
   ],
   "source": [
    "def calculate () :\n",
    "    u = 0\n",
    "    l = 0\n",
    "    s = input(\"Enter a string \")\n",
    "    for i in s :\n",
    "        if i.isupper() :\n",
    "            u+=1\n",
    "        elif i.islower() :\n",
    "            l+=1\n",
    "    print(\"No. of Upper case characters : \",u)\n",
    "    print(\"No. of Lower case Characters : \",l)\n",
    "\n",
    "calculate()    \n",
    "    \n",
    "    "
   ]
  },
  {
   "cell_type": "code",
   "execution_count": 13,
   "metadata": {},
   "outputs": [
    {
     "name": "stdout",
     "output_type": "stream",
     "text": [
      "[2, 12, 6, 4, 8]\n"
     ]
    }
   ],
   "source": [
    "def even () :\n",
    "    arr1 = []\n",
    "    arr2 = [1,2,12,7,6,4,8,3,9,23]\n",
    "    \n",
    "    for i in arr2 :\n",
    "        if (i % 2 == 0) :\n",
    "            arr1.append(i)\n",
    "    print(arr1)\n",
    "\n",
    "even()    \n",
    "    "
   ]
  },
  {
   "cell_type": "code",
   "execution_count": 49,
   "metadata": {},
   "outputs": [
    {
     "name": "stdout",
     "output_type": "stream",
     "text": [
      "passed string is palindrome\n"
     ]
    }
   ],
   "source": [
    "def palind (txt) :\n",
    "    new_txt = txt[::-1]\n",
    "    if new_txt == txt :\n",
    "        return \"passed string is palindrome\"\n",
    "    else :\n",
    "        return \"passed string is not palindrome\"\n",
    "\n",
    "print(palind(\"madam\"))    \n",
    "    "
   ]
  },
  {
   "cell_type": "code",
   "execution_count": 84,
   "metadata": {},
   "outputs": [
    {
     "name": "stdout",
     "output_type": "stream",
     "text": [
      "7 is a prime number\n"
     ]
    }
   ],
   "source": [
    "def test_prime(n):\n",
    "    if (n==1):\n",
    "        n = str(n)\n",
    "        return n + \" is not a prime number\"\n",
    "    elif (n==2):\n",
    "        n = str(n)\n",
    "        return n + \" is a prime number\"\n",
    "    else:\n",
    "        for x in range(2,n):\n",
    "            if(n % x==0):\n",
    "                n = str(n)\n",
    "                return n + \" is not a prime number\"\n",
    "            else :\n",
    "                n = str(n)\n",
    "                return n + \" is a prime number\"\n",
    "                    \n",
    "print(test_prime(7))"
   ]
  },
  {
   "cell_type": "code",
   "execution_count": 93,
   "metadata": {},
   "outputs": [
    {
     "name": "stdout",
     "output_type": "stream",
     "text": [
      "user bought following items from market :\n",
      "\n",
      "cake\n",
      "rice\n",
      "sugar\n",
      "salt\n",
      "flour\n",
      "oil\n",
      "bottle\n"
     ]
    }
   ],
   "source": [
    "def items (*shopping) :\n",
    "    print(\"user bought following items from market :\" + \"\\n\")\n",
    "    for i in shopping :\n",
    "        print(i)\n",
    "\n",
    "items(\"cake\",\"rice\",\"sugar\",\"salt\",\"flour\",\"oil\",\"bottle\")        \n",
    "    "
   ]
  },
  {
   "cell_type": "code",
   "execution_count": null,
   "metadata": {},
   "outputs": [],
   "source": []
  }
 ],
 "metadata": {
  "kernelspec": {
   "display_name": "Python 3",
   "language": "python",
   "name": "python3"
  },
  "language_info": {
   "codemirror_mode": {
    "name": "ipython",
    "version": 3
   },
   "file_extension": ".py",
   "mimetype": "text/x-python",
   "name": "python",
   "nbconvert_exporter": "python",
   "pygments_lexer": "ipython3",
   "version": "3.7.0"
  }
 },
 "nbformat": 4,
 "nbformat_minor": 2
}
